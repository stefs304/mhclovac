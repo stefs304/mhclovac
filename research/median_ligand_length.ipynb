{
 "cells": [
  {
   "cell_type": "code",
   "id": "initial_id",
   "metadata": {
    "collapsed": true,
    "ExecuteTime": {
     "end_time": "2024-08-24T09:38:33.598409Z",
     "start_time": "2024-08-24T09:38:33.187870Z"
    }
   },
   "source": [
    "import pandas as pd\n",
    "import matplotlib.pyplot as plt\n"
   ],
   "outputs": [],
   "execution_count": 1
  },
  {
   "metadata": {
    "ExecuteTime": {
     "end_time": "2024-08-24T09:43:26.465470Z",
     "start_time": "2024-08-24T09:43:25.053704Z"
    }
   },
   "cell_type": "code",
   "source": "data = pd.read_csv('./data/mhc_full_cleaned.csv')\n",
   "id": "5df3bd3a1f2c54cc",
   "outputs": [],
   "execution_count": 5
  },
  {
   "metadata": {
    "ExecuteTime": {
     "end_time": "2024-08-24T09:43:26.937284Z",
     "start_time": "2024-08-24T09:43:26.861950Z"
    }
   },
   "cell_type": "code",
   "source": [
    "species = data['species'].unique()\n",
    "print(species)"
   ],
   "id": "1f6bfb841396c4e",
   "outputs": [
    {
     "name": "stdout",
     "output_type": "stream",
     "text": [
      "['Homo sapiens (human)' 'Mus musculus (mouse)'\n",
      " 'Macaca mulatta (rhesus macaque)' 'Pan troglodytes (chimpanzee)'\n",
      " 'Gorilla gorilla' 'Bos taurus (bovine)' 'Gallus gallus (chicken)'\n",
      " 'Rattus norvegicus (brown rat)' 'Sus scrofa (pig)'\n",
      " 'Canis lupus familiaris (dogs)' 'Equus caballus (domestic horse)'\n",
      " 'Pteropus alecto (black flying fox)' 'Anas platyrhynchos (duck)'\n",
      " 'Felis catus (cat)' 'Oryctolagus cuniculus (rabbit)'\n",
      " 'Trichosurus vulpecula (common brush-tailed possum)'\n",
      " 'Macaca fascicularis (crab eating macaque)']\n"
     ]
    }
   ],
   "execution_count": 6
  },
  {
   "metadata": {
    "ExecuteTime": {
     "end_time": "2024-08-24T09:43:27.691523Z",
     "start_time": "2024-08-24T09:43:27.640532Z"
    }
   },
   "cell_type": "code",
   "source": [
    "classes = data['mhc_class'].unique()\n",
    "print(classes)"
   ],
   "id": "9f436f7e486861e5",
   "outputs": [
    {
     "name": "stdout",
     "output_type": "stream",
     "text": [
      "['I' 'non classical' 'II']\n"
     ]
    }
   ],
   "execution_count": 7
  },
  {
   "metadata": {
    "ExecuteTime": {
     "end_time": "2024-08-24T09:43:40.296508Z",
     "start_time": "2024-08-24T09:43:40.005548Z"
    }
   },
   "cell_type": "code",
   "source": "data['pep_len'] = data['peptide'].apply(len)\n",
   "id": "1777928a25692d9b",
   "outputs": [],
   "execution_count": 8
  },
  {
   "metadata": {
    "ExecuteTime": {
     "end_time": "2024-08-24T09:45:12.438551Z",
     "start_time": "2024-08-24T09:45:12.353948Z"
    }
   },
   "cell_type": "code",
   "source": "data.groupby('mhc_class')['pep_len'].median()",
   "id": "f63febc057bc01ee",
   "outputs": [
    {
     "data": {
      "text/plain": [
       "mhc_class\n",
       "I                 9.0\n",
       "II               15.0\n",
       "non classical     9.0\n",
       "Name: pep_len, dtype: float64"
      ]
     },
     "execution_count": 11,
     "metadata": {},
     "output_type": "execute_result"
    }
   ],
   "execution_count": 11
  },
  {
   "metadata": {
    "ExecuteTime": {
     "end_time": "2024-08-24T09:46:33.740248Z",
     "start_time": "2024-08-24T09:46:33.566838Z"
    }
   },
   "cell_type": "code",
   "source": "data.groupby(['species', 'mhc_class'])['pep_len'].median()",
   "id": "ba27f8f813889aff",
   "outputs": [
    {
     "data": {
      "text/plain": [
       "species                                             mhc_class    \n",
       "Anas platyrhynchos (duck)                           I                 9.0\n",
       "Bos taurus (bovine)                                 I                10.0\n",
       "                                                    II               15.0\n",
       "Canis lupus familiaris (dogs)                       I                 9.0\n",
       "Equus caballus (domestic horse)                     I                 9.0\n",
       "Felis catus (cat)                                   I                 9.0\n",
       "Gallus gallus (chicken)                             I                 9.0\n",
       "Gorilla gorilla                                     I                 9.0\n",
       "Homo sapiens (human)                                I                 9.0\n",
       "                                                    II               15.0\n",
       "                                                    non classical     9.0\n",
       "Macaca fascicularis (crab eating macaque)           I                 9.0\n",
       "Macaca mulatta (rhesus macaque)                     I                 9.0\n",
       "                                                    II               15.0\n",
       "Mus musculus (mouse)                                I                 9.0\n",
       "                                                    II               15.0\n",
       "                                                    non classical     9.0\n",
       "Oryctolagus cuniculus (rabbit)                      I                 9.0\n",
       "Pan troglodytes (chimpanzee)                        I                 9.0\n",
       "                                                    II               12.0\n",
       "Pteropus alecto (black flying fox)                  I                 9.0\n",
       "Rattus norvegicus (brown rat)                       I                12.0\n",
       "                                                    II               13.0\n",
       "Sus scrofa (pig)                                    I                10.0\n",
       "                                                    II                9.0\n",
       "Trichosurus vulpecula (common brush-tailed possum)  I                 9.0\n",
       "Name: pep_len, dtype: float64"
      ]
     },
     "execution_count": 13,
     "metadata": {},
     "output_type": "execute_result"
    }
   ],
   "execution_count": 13
  },
  {
   "metadata": {},
   "cell_type": "code",
   "outputs": [],
   "execution_count": null,
   "source": "",
   "id": "bbff8a71d7cebc67"
  }
 ],
 "metadata": {
  "kernelspec": {
   "display_name": "Python 3",
   "language": "python",
   "name": "python3"
  },
  "language_info": {
   "codemirror_mode": {
    "name": "ipython",
    "version": 2
   },
   "file_extension": ".py",
   "mimetype": "text/x-python",
   "name": "python",
   "nbconvert_exporter": "python",
   "pygments_lexer": "ipython2",
   "version": "2.7.6"
  }
 },
 "nbformat": 4,
 "nbformat_minor": 5
}
