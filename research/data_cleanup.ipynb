{
 "cells": [
  {
   "cell_type": "code",
   "id": "initial_id",
   "metadata": {
    "collapsed": true,
    "ExecuteTime": {
     "end_time": "2024-08-24T08:36:47.725067Z",
     "start_time": "2024-08-24T08:36:47.721379Z"
    }
   },
   "source": [
    "import numpy as np\n",
    "import pandas as pd\n",
    "import matplotlib.pyplot as plt\n",
    "import xml.etree.ElementTree as ET\n",
    "import pandas as pd\n",
    "from mhclovac.utils import validate_sequence\n"
   ],
   "outputs": [],
   "execution_count": 16
  },
  {
   "metadata": {
    "ExecuteTime": {
     "end_time": "2024-08-24T08:31:15.117401Z",
     "start_time": "2024-08-24T08:31:15.111797Z"
    }
   },
   "cell_type": "code",
   "source": [
    "class MhcNameParser:\n",
    "\n",
    "    def __init__(self, xml_file):\n",
    "        self.tree = ET.parse(xml_file)\n",
    "        self.parsed_data = self._parse_xml()\n",
    "\n",
    "    def _parse_xml(self):\n",
    "        root = self.tree.getroot()\n",
    "        data = {}\n",
    "        for child in root:\n",
    "            child_data = {}\n",
    "            for tag in child:\n",
    "                if tag.tag == 'DisplayedRestriction':\n",
    "                    child_data['name'] = tag.text\n",
    "                    child_data['synonyms'] = [tag.text]\n",
    "                if tag.tag == 'Synonyms':\n",
    "                    child_data['synonyms'].extend(tag.text.split('|'))\n",
    "                if tag.tag == 'RestrictionLevel':\n",
    "                    child_data['restriction_level'] = tag.text\n",
    "                if tag.tag == 'Organism':\n",
    "                    child_data['species'] = tag.text\n",
    "                if tag.tag == 'Class':\n",
    "                    child_data['class'] = tag.text\n",
    "                if tag.tag == 'Chain1Name':\n",
    "                    child_data['chain1'] = tag.text\n",
    "                if tag.tag == 'Chain2Name':\n",
    "                    child_data['chain2'] = tag.text\n",
    "            data[child_data['name']] = child_data\n",
    "        return data\n",
    "\n",
    "    @functools.lru_cache\n",
    "    def get_allele_name(self, name):\n",
    "        for allele in self.parsed_data.values():\n",
    "            if name in allele['synonyms']:\n",
    "                if allele['restriction_level'] in ['complete molecule', 'partial molecule']:\n",
    "                    return allele['name'].split(' ')[0]\n",
    "\n",
    "    @functools.lru_cache\n",
    "    def get_species(self, partial):\n",
    "        for allele_dict in self.parsed_data.values():\n",
    "            if partial in allele_dict['synonyms']:\n",
    "                return allele_dict['species']\n"
   ],
   "id": "7e58c25db364d62a",
   "outputs": [],
   "execution_count": 12
  },
  {
   "metadata": {
    "ExecuteTime": {
     "end_time": "2024-08-24T08:32:42.464116Z",
     "start_time": "2024-08-24T08:32:17.746608Z"
    }
   },
   "cell_type": "code",
   "source": [
    "raw_data = pd.read_csv(\n",
    "    './data/mhc_ligand_full_single_file.zip',\n",
    "    sep=',',\n",
    "    skiprows=2,\n",
    "    usecols=[10, 11, 43, 91, 94, 96, 107, 110],\n",
    "    names=['peptyde_type', 'peptide', 'species', 'assay_group', 'qual_meas', 'quant_meas', 'mhc_allele', 'mhc_class']\n",
    ")\n",
    "\n",
    "raw_data.head()"
   ],
   "id": "1481c6ca1ca1b166",
   "outputs": [
    {
     "name": "stderr",
     "output_type": "stream",
     "text": [
      "/tmp/ipykernel_357582/467551011.py:1: DtypeWarning: Columns (110) have mixed types. Specify dtype option on import or set low_memory=False.\n",
      "  raw_data = pd.read_csv(\n"
     ]
    },
    {
     "data": {
      "text/plain": [
       "     peptyde_type    peptide               species  \\\n",
       "0  Linear peptide  KLEDLERDL  Homo sapiens (human)   \n",
       "1  Linear peptide  LITGRLQSL  Homo sapiens (human)   \n",
       "2  Linear peptide   TRVAFAGL  Mus musculus (mouse)   \n",
       "3  Linear peptide   RNTDFFGL  Mus musculus (mouse)   \n",
       "4  Linear peptide  EVMPVSMAK  Homo sapiens (human)   \n",
       "\n",
       "                        assay_group              qual_meas  quant_meas  \\\n",
       "0               qualitative binding           Positive-Low         NaN   \n",
       "1               qualitative binding          Positive-High         NaN   \n",
       "2               qualitative binding               Positive         NaN   \n",
       "3               qualitative binding               Positive         NaN   \n",
       "4  dissociation constant KD (~EC50)  Positive-Intermediate       473.0   \n",
       "\n",
       "    mhc_allele mhc_class  \n",
       "0  HLA-A*02:01       NaN  \n",
       "1       HLA-A2       NaN  \n",
       "2        H2-Kb       NaN  \n",
       "3        H2-Kb       NaN  \n",
       "4  HLA-A*03:01       NaN  "
      ],
      "text/html": [
       "<div>\n",
       "<style scoped>\n",
       "    .dataframe tbody tr th:only-of-type {\n",
       "        vertical-align: middle;\n",
       "    }\n",
       "\n",
       "    .dataframe tbody tr th {\n",
       "        vertical-align: top;\n",
       "    }\n",
       "\n",
       "    .dataframe thead th {\n",
       "        text-align: right;\n",
       "    }\n",
       "</style>\n",
       "<table border=\"1\" class=\"dataframe\">\n",
       "  <thead>\n",
       "    <tr style=\"text-align: right;\">\n",
       "      <th></th>\n",
       "      <th>peptyde_type</th>\n",
       "      <th>peptide</th>\n",
       "      <th>species</th>\n",
       "      <th>assay_group</th>\n",
       "      <th>qual_meas</th>\n",
       "      <th>quant_meas</th>\n",
       "      <th>mhc_allele</th>\n",
       "      <th>mhc_class</th>\n",
       "    </tr>\n",
       "  </thead>\n",
       "  <tbody>\n",
       "    <tr>\n",
       "      <th>0</th>\n",
       "      <td>Linear peptide</td>\n",
       "      <td>KLEDLERDL</td>\n",
       "      <td>Homo sapiens (human)</td>\n",
       "      <td>qualitative binding</td>\n",
       "      <td>Positive-Low</td>\n",
       "      <td>NaN</td>\n",
       "      <td>HLA-A*02:01</td>\n",
       "      <td>NaN</td>\n",
       "    </tr>\n",
       "    <tr>\n",
       "      <th>1</th>\n",
       "      <td>Linear peptide</td>\n",
       "      <td>LITGRLQSL</td>\n",
       "      <td>Homo sapiens (human)</td>\n",
       "      <td>qualitative binding</td>\n",
       "      <td>Positive-High</td>\n",
       "      <td>NaN</td>\n",
       "      <td>HLA-A2</td>\n",
       "      <td>NaN</td>\n",
       "    </tr>\n",
       "    <tr>\n",
       "      <th>2</th>\n",
       "      <td>Linear peptide</td>\n",
       "      <td>TRVAFAGL</td>\n",
       "      <td>Mus musculus (mouse)</td>\n",
       "      <td>qualitative binding</td>\n",
       "      <td>Positive</td>\n",
       "      <td>NaN</td>\n",
       "      <td>H2-Kb</td>\n",
       "      <td>NaN</td>\n",
       "    </tr>\n",
       "    <tr>\n",
       "      <th>3</th>\n",
       "      <td>Linear peptide</td>\n",
       "      <td>RNTDFFGL</td>\n",
       "      <td>Mus musculus (mouse)</td>\n",
       "      <td>qualitative binding</td>\n",
       "      <td>Positive</td>\n",
       "      <td>NaN</td>\n",
       "      <td>H2-Kb</td>\n",
       "      <td>NaN</td>\n",
       "    </tr>\n",
       "    <tr>\n",
       "      <th>4</th>\n",
       "      <td>Linear peptide</td>\n",
       "      <td>EVMPVSMAK</td>\n",
       "      <td>Homo sapiens (human)</td>\n",
       "      <td>dissociation constant KD (~EC50)</td>\n",
       "      <td>Positive-Intermediate</td>\n",
       "      <td>473.0</td>\n",
       "      <td>HLA-A*03:01</td>\n",
       "      <td>NaN</td>\n",
       "    </tr>\n",
       "  </tbody>\n",
       "</table>\n",
       "</div>"
      ]
     },
     "execution_count": 13,
     "metadata": {},
     "output_type": "execute_result"
    }
   ],
   "execution_count": 13
  },
  {
   "metadata": {
    "ExecuteTime": {
     "end_time": "2024-08-24T08:32:56.045281Z",
     "start_time": "2024-08-24T08:32:55.636789Z"
    }
   },
   "cell_type": "code",
   "source": [
    "assay_groups = [\n",
    "    'qualitative binding',\n",
    "    'dissociation constant KD (~EC50)',\n",
    "    'half maximal inhibitory concentration (IC50)',\n",
    "    'ligand presentation',\n",
    "    'dissociation constant KD (~IC50)',\n",
    "    'dissociation constant KD'\n",
    "]\n",
    "\n",
    "data = raw_data[raw_data['assay_group'].isin(assay_groups)]\n"
   ],
   "id": "2e061557b852198b",
   "outputs": [],
   "execution_count": 14
  },
  {
   "metadata": {
    "ExecuteTime": {
     "end_time": "2024-08-24T08:36:58.897074Z",
     "start_time": "2024-08-24T08:36:52.136118Z"
    }
   },
   "cell_type": "code",
   "source": [
    "data['peptide'] = data['peptide'].apply(lambda x: x.upper())\n",
    "valid_pep_mask = data['peptide'].apply(validate_sequence)\n",
    "data = data[valid_pep_mask]\n"
   ],
   "id": "57f81b044477c996",
   "outputs": [
    {
     "name": "stderr",
     "output_type": "stream",
     "text": [
      "/tmp/ipykernel_357582/3895671932.py:1: SettingWithCopyWarning: \n",
      "A value is trying to be set on a copy of a slice from a DataFrame.\n",
      "Try using .loc[row_indexer,col_indexer] = value instead\n",
      "\n",
      "See the caveats in the documentation: https://pandas.pydata.org/pandas-docs/stable/user_guide/indexing.html#returning-a-view-versus-a-copy\n",
      "  data['peptide'] = data['peptide'].apply(lambda x: x.upper())\n"
     ]
    }
   ],
   "execution_count": 17
  },
  {
   "metadata": {
    "ExecuteTime": {
     "end_time": "2024-08-24T08:38:27.810220Z",
     "start_time": "2024-08-24T08:38:24.658355Z"
    }
   },
   "cell_type": "code",
   "source": [
    "xml_file = './data/MhcAlleleNameList.xml'\n",
    "name_parser = MhcNameParser(xml_file)\n",
    "\n",
    "data['mhc_allele'] = data['mhc_allele'].apply(lambda x: name_parser.get_allele_name(x))\n",
    "data['species'] = data['mhc_allele'].apply(lambda x: name_parser.get_species(x))\n",
    "\n",
    "data.dropna(subset=['mhc_allele', 'species', 'peptide'], inplace=True)"
   ],
   "id": "3734dbcd9928b611",
   "outputs": [],
   "execution_count": 19
  },
  {
   "metadata": {
    "ExecuteTime": {
     "end_time": "2024-08-24T08:39:10.601113Z",
     "start_time": "2024-08-24T08:39:06.769620Z"
    }
   },
   "cell_type": "code",
   "source": [
    "output_name = './data/mhc_full_cleaned.csv'\n",
    "data.to_csv(output_name, index=False)"
   ],
   "id": "dfec367f96892883",
   "outputs": [],
   "execution_count": 20
  },
  {
   "metadata": {},
   "cell_type": "code",
   "outputs": [],
   "execution_count": null,
   "source": "",
   "id": "bdb59b4e6ee8c365"
  }
 ],
 "metadata": {
  "kernelspec": {
   "display_name": "Python 3",
   "language": "python",
   "name": "python3"
  },
  "language_info": {
   "codemirror_mode": {
    "name": "ipython",
    "version": 2
   },
   "file_extension": ".py",
   "mimetype": "text/x-python",
   "name": "python",
   "nbconvert_exporter": "python",
   "pygments_lexer": "ipython2",
   "version": "2.7.6"
  }
 },
 "nbformat": 4,
 "nbformat_minor": 5
}
